{
  "nbformat": 4,
  "nbformat_minor": 0,
  "metadata": {
    "colab": {
      "provenance": []
    },
    "kernelspec": {
      "name": "python3",
      "display_name": "Python 3"
    },
    "language_info": {
      "name": "python"
    }
  },
  "cells": [
    {
      "cell_type": "code",
      "execution_count": 24,
      "metadata": {
        "id": "5nQtyrsyTOJN"
      },
      "outputs": [],
      "source": [
        "import jax\n",
        "import collections\n",
        "import numpy as np\n",
        "import jax.numpy as jnp\n",
        "\n",
        "from jax.tree_util import tree_structure\n",
        "from jax.tree_util import tree_flatten, tree_unflatten\n",
        "from jax.tree_util import tree_leaves"
      ]
    },
    {
      "cell_type": "code",
      "source": [
        "list_pytree = ['a', 'b', 'c']\n",
        "\n",
        "leaves = tree_leaves(list_pytree)\n",
        "leaves"
      ],
      "metadata": {
        "colab": {
          "base_uri": "https://localhost:8080/"
        },
        "id": "QUsOTkwH9vmW",
        "outputId": "3e4cb7b4-b103-4392-d6ab-eba6a8b3b690"
      },
      "execution_count": 5,
      "outputs": [
        {
          "output_type": "execute_result",
          "data": {
            "text/plain": [
              "['a', 'b', 'c']"
            ]
          },
          "metadata": {},
          "execution_count": 5
        }
      ]
    },
    {
      "cell_type": "code",
      "source": [
        "list_pytree = ['a', 'b', ('Alice', 'Bob')]\n",
        "\n",
        "leaves = tree_leaves(list_pytree)\n",
        "leaves"
      ],
      "metadata": {
        "colab": {
          "base_uri": "https://localhost:8080/"
        },
        "id": "eViPoHwX-YKc",
        "outputId": "4309deb5-81ac-4f4f-a65b-14365787b872"
      },
      "execution_count": 6,
      "outputs": [
        {
          "output_type": "execute_result",
          "data": {
            "text/plain": [
              "['a', 'b', 'Alice', 'Bob']"
            ]
          },
          "metadata": {},
          "execution_count": 6
        }
      ]
    },
    {
      "cell_type": "code",
      "source": [
        "tree_structure(list_pytree)"
      ],
      "metadata": {
        "colab": {
          "base_uri": "https://localhost:8080/"
        },
        "id": "t-7w79Mz-4jT",
        "outputId": "a0b6b0e6-8195-4058-8bca-185c854f402e"
      },
      "execution_count": 7,
      "outputs": [
        {
          "output_type": "execute_result",
          "data": {
            "text/plain": [
              "PyTreeDef([*, *, (*, *)])"
            ]
          },
          "metadata": {},
          "execution_count": 7
        }
      ]
    },
    {
      "cell_type": "code",
      "source": [
        "dict_pytree = {'x': 1, 'y': 33, 'z': 3343.33}\n",
        "\n",
        "leaves = tree_leaves(dict_pytree) # dict-keys are metadata, dict-values are leaves\n",
        "leaves"
      ],
      "metadata": {
        "colab": {
          "base_uri": "https://localhost:8080/"
        },
        "id": "QxfCe3jc_EmX",
        "outputId": "347d9529-b391-4d60-afd8-ab43766b90cb"
      },
      "execution_count": 9,
      "outputs": [
        {
          "output_type": "execute_result",
          "data": {
            "text/plain": [
              "[1, 33, 3343.33]"
            ]
          },
          "metadata": {},
          "execution_count": 9
        }
      ]
    },
    {
      "cell_type": "code",
      "source": [
        "tree_structure(dict_pytree) # *'s are dict-values and dict-keys (metadata) are visible here"
      ],
      "metadata": {
        "colab": {
          "base_uri": "https://localhost:8080/"
        },
        "id": "wig3X-bJ_cIN",
        "outputId": "bc1f3e25-b9fe-4c70-d611-be53ddd45486"
      },
      "execution_count": 11,
      "outputs": [
        {
          "output_type": "execute_result",
          "data": {
            "text/plain": [
              "PyTreeDef({'x': *, 'y': *, 'z': *})"
            ]
          },
          "metadata": {},
          "execution_count": 11
        }
      ]
    },
    {
      "cell_type": "code",
      "source": [
        "tuple_pytree = ('a', 'b', {'x': 1, 'y': 33})\n",
        "\n",
        "leaves = tree_leaves(tuple_pytree) # dict-keys are metadata, dict-values are leaves\n",
        "leaves"
      ],
      "metadata": {
        "colab": {
          "base_uri": "https://localhost:8080/"
        },
        "id": "flLvhI4i_qDj",
        "outputId": "9556c301-808b-446c-d236-3213f325f711"
      },
      "execution_count": 13,
      "outputs": [
        {
          "output_type": "execute_result",
          "data": {
            "text/plain": [
              "['a', 'b', 1, 33]"
            ]
          },
          "metadata": {},
          "execution_count": 13
        }
      ]
    },
    {
      "cell_type": "code",
      "source": [
        "tree_structure(tuple_pytree)"
      ],
      "metadata": {
        "colab": {
          "base_uri": "https://localhost:8080/"
        },
        "id": "Opa-9j-KBcxG",
        "outputId": "548c4506-c0fd-4788-c47f-a1b62d7ab10f"
      },
      "execution_count": 15,
      "outputs": [
        {
          "output_type": "execute_result",
          "data": {
            "text/plain": [
              "PyTreeDef((*, *, {'x': *, 'y': *}))"
            ]
          },
          "metadata": {},
          "execution_count": 15
        }
      ]
    },
    {
      "cell_type": "code",
      "source": [
        "complex_pytree = ['a', 'b', 'c', [1, 2], (3., 4.), {'x':2, 'y': (3,4)}]\n",
        "leaves = tree_leaves(complex_pytree)\n",
        "leaves"
      ],
      "metadata": {
        "colab": {
          "base_uri": "https://localhost:8080/"
        },
        "id": "5yZZifj_Bvc8",
        "outputId": "4a940417-5a35-411c-f835-0103d8b5d0f0"
      },
      "execution_count": 16,
      "outputs": [
        {
          "output_type": "execute_result",
          "data": {
            "text/plain": [
              "['a', 'b', 'c', 1, 2, 3.0, 4.0, 2, 3, 4]"
            ]
          },
          "metadata": {},
          "execution_count": 16
        }
      ]
    },
    {
      "cell_type": "code",
      "source": [
        "print('Number of leaves:', len(leaves))\n",
        "print('Leaves:', leaves)\n",
        "print('Tree structure:', tree_structure(complex_pytree))"
      ],
      "metadata": {
        "colab": {
          "base_uri": "https://localhost:8080/"
        },
        "id": "CEW-1nfKCKzT",
        "outputId": "4f2b13fb-9c84-47b9-e0df-f0283bb10205"
      },
      "execution_count": 17,
      "outputs": [
        {
          "output_type": "stream",
          "name": "stdout",
          "text": [
            "Number of leaves: 10\n",
            "Leaves: ['a', 'b', 'c', 1, 2, 3.0, 4.0, 2, 3, 4]\n",
            "Tree structure: PyTreeDef([*, *, *, [*, *], (*, *), {'x': *, 'y': (*, *)}])\n"
          ]
        }
      ]
    },
    {
      "cell_type": "code",
      "source": [
        "complex_pytree = ['a', 'b', 'c', [1, 2], (3., 4.), ()]\n",
        "leaves = tree_leaves(complex_pytree)\n",
        "\n",
        "print('Number of leaves:', len(leaves))\n",
        "print('Leaves:', leaves)\n",
        "print('Tree structure:', tree_structure(complex_pytree))"
      ],
      "metadata": {
        "colab": {
          "base_uri": "https://localhost:8080/"
        },
        "id": "7GZcYjN2Cc6r",
        "outputId": "ef36190d-2644-4fd0-b679-ee0d63f94b01"
      },
      "execution_count": 18,
      "outputs": [
        {
          "output_type": "stream",
          "name": "stdout",
          "text": [
            "Number of leaves: 7\n",
            "Leaves: ['a', 'b', 'c', 1, 2, 3.0, 4.0]\n",
            "Tree structure: PyTreeDef([*, *, *, [*, *], (*, *), ()])\n"
          ]
        }
      ]
    },
    {
      "cell_type": "code",
      "source": [
        "complex_pytree = {'x': 1., 'y': (2., 3.), 'z': [4., 5., 6.]}\n",
        "leaves = tree_leaves(complex_pytree)\n",
        "\n",
        "print('Number of leaves:', len(leaves))\n",
        "print('Leaves:', leaves)\n",
        "print('Tree structure:', tree_structure(complex_pytree))"
      ],
      "metadata": {
        "colab": {
          "base_uri": "https://localhost:8080/"
        },
        "id": "pGeXmzFpC4QB",
        "outputId": "a3a3154d-f695-43a3-b938-abbe3b61acb7"
      },
      "execution_count": 20,
      "outputs": [
        {
          "output_type": "stream",
          "name": "stdout",
          "text": [
            "Number of leaves: 6\n",
            "Leaves: [1.0, 2.0, 3.0, 4.0, 5.0, 6.0]\n",
            "Tree structure: PyTreeDef({'x': *, 'y': (*, *), 'z': [*, *, *]})\n"
          ]
        }
      ]
    },
    {
      "cell_type": "code",
      "source": [
        "complex_pytree = {'x': 1., 'y': jnp.array((2., 3.)), 'z': jnp.array([4., 5., 6.])} # jax arrays are primitives (not pytree objects) like int, float, etc.\n",
        "leaves = tree_leaves(complex_pytree)\n",
        "\n",
        "print('Number of leaves:', len(leaves))\n",
        "print('Leaves:', leaves)\n",
        "print('Tree structure:', tree_structure(complex_pytree))"
      ],
      "metadata": {
        "colab": {
          "base_uri": "https://localhost:8080/"
        },
        "id": "Xnj6d2r6DO_X",
        "outputId": "81864e2a-2f00-4acd-a7e3-d56f97a3cc97"
      },
      "execution_count": 21,
      "outputs": [
        {
          "output_type": "stream",
          "name": "stdout",
          "text": [
            "Number of leaves: 3\n",
            "Leaves: [1.0, Array([2., 3.], dtype=float32), Array([4., 5., 6.], dtype=float32)]\n",
            "Tree structure: PyTreeDef({'x': *, 'y': *, 'z': *})\n"
          ]
        }
      ]
    },
    {
      "cell_type": "markdown",
      "source": [
        "# Operations on pytrees"
      ],
      "metadata": {
        "id": "EtLUcGZHGSBV"
      }
    },
    {
      "cell_type": "code",
      "source": [
        "complex_pytree = {'x': 1., 'y': (2., 3.), 'z': [4., 5., 6.]}\n",
        "\n",
        "t_leaves, t_structure = tree_flatten(complex_pytree)\n",
        "print('Leaves:', t_leaves)\n",
        "print('Tree structure:', tree_structure(t_structure))"
      ],
      "metadata": {
        "colab": {
          "base_uri": "https://localhost:8080/"
        },
        "id": "I7OktUB3Dwby",
        "outputId": "a7db80b4-5b38-46de-ea97-ae05d4ef35fa"
      },
      "execution_count": 25,
      "outputs": [
        {
          "output_type": "stream",
          "name": "stdout",
          "text": [
            "Leaves: [1.0, 2.0, 3.0, 4.0, 5.0, 6.0]\n",
            "Tree structure: PyTreeDef(*)\n"
          ]
        }
      ]
    },
    {
      "cell_type": "code",
      "source": [
        "transformed_leaves = list(map(lambda x: x**2, t_leaves))\n",
        "transformed_leaves"
      ],
      "metadata": {
        "colab": {
          "base_uri": "https://localhost:8080/"
        },
        "id": "MHIC504cGvmw",
        "outputId": "82bc90ef-e619-48d9-d8d9-6589852b10e2"
      },
      "execution_count": 26,
      "outputs": [
        {
          "output_type": "execute_result",
          "data": {
            "text/plain": [
              "[1.0, 4.0, 9.0, 16.0, 25.0, 36.0]"
            ]
          },
          "metadata": {},
          "execution_count": 26
        }
      ]
    },
    {
      "cell_type": "code",
      "source": [
        "reconstructed_complex_tree = tree_unflatten(treedef= t_structure, leaves= transformed_leaves)\n",
        "print('Original Pytree: ', complex_pytree)\n",
        "print('Transformed Pytree: ', reconstructed_complex_tree)"
      ],
      "metadata": {
        "colab": {
          "base_uri": "https://localhost:8080/"
        },
        "id": "xaSxACcxHZyo",
        "outputId": "bc755ca4-37aa-4db0-9ccd-624583e65640"
      },
      "execution_count": 27,
      "outputs": [
        {
          "output_type": "stream",
          "name": "stdout",
          "text": [
            "Original Pytree:  {'x': 1.0, 'y': (2.0, 3.0), 'z': [4.0, 5.0, 6.0]}\n",
            "Transformed Pytree:  {'x': 1.0, 'y': (4.0, 9.0), 'z': [16.0, 25.0, 36.0]}\n"
          ]
        }
      ]
    },
    {
      "cell_type": "code",
      "source": [
        "transformed_leaves = jax.tree.map(lambda x: x**2, complex_pytree)\n",
        "transformed_leaves"
      ],
      "metadata": {
        "colab": {
          "base_uri": "https://localhost:8080/"
        },
        "id": "G3iUpEVMPJu4",
        "outputId": "ed659dad-38d6-42d3-bfd9-7d2361b06198"
      },
      "execution_count": 29,
      "outputs": [
        {
          "output_type": "execute_result",
          "data": {
            "text/plain": [
              "{'x': 1.0, 'y': (4.0, 9.0), 'z': [16.0, 25.0, 36.0]}"
            ]
          },
          "metadata": {},
          "execution_count": 29
        }
      ]
    },
    {
      "cell_type": "code",
      "source": [
        "copy_complex_pytree = complex_pytree.copy()\n",
        "print(complex_pytree)\n",
        "print(copy_complex_pytree)\n",
        "print('*' * 50)\n",
        "print(jax.tree.map(lambda x, y: x + y, complex_pytree, copy_complex_pytree))"
      ],
      "metadata": {
        "colab": {
          "base_uri": "https://localhost:8080/"
        },
        "id": "TbrJh9lRPzbs",
        "outputId": "5b8cff41-5845-41da-8d12-20bcadd7fbd2"
      },
      "execution_count": 30,
      "outputs": [
        {
          "output_type": "stream",
          "name": "stdout",
          "text": [
            "{'x': 1.0, 'y': (2.0, 3.0), 'z': [4.0, 5.0, 6.0]}\n",
            "{'x': 1.0, 'y': (2.0, 3.0), 'z': [4.0, 5.0, 6.0]}\n",
            "**************************************************\n",
            "{'x': 2.0, 'y': (4.0, 6.0), 'z': [8.0, 10.0, 12.0]}\n"
          ]
        }
      ]
    },
    {
      "cell_type": "markdown",
      "source": [
        "# Pytree containers"
      ],
      "metadata": {
        "id": "DyvTqOQmQ_Yv"
      }
    },
    {
      "cell_type": "code",
      "source": [
        "containers_or_not = [\n",
        "    None,\n",
        "    1.,\n",
        "    object(),\n",
        "    jnp.ones(3)\n",
        "]\n",
        "\n",
        "def show_example(container):\n",
        "    t_leaves, t_structure = tree_flatten(container)\n",
        "    unflattened = tree_unflatten(t_structure, t_leaves)\n",
        "\n",
        "    print('Original={}\\n flat={}\\n tree={}\\n unflattened={}'.format(container, t_leaves, t_structure, unflattened))\n",
        "\n",
        "for not_container in containers_or_not:\n",
        "    show_example(not_container)"
      ],
      "metadata": {
        "colab": {
          "base_uri": "https://localhost:8080/"
        },
        "id": "o0bK9MdhQq-y",
        "outputId": "58a580e5-af0f-4a0a-b0a2-85ee70cee103"
      },
      "execution_count": 31,
      "outputs": [
        {
          "output_type": "stream",
          "name": "stdout",
          "text": [
            "Original=None\n",
            " flat=[]\n",
            " tree=PyTreeDef(None)\n",
            " unflattened=None\n",
            "Original=1.0\n",
            " flat=[1.0]\n",
            " tree=PyTreeDef(*)\n",
            " unflattened=1.0\n",
            "Original=<object object at 0x7ef9aabeae80>\n",
            " flat=[<object object at 0x7ef9aabeae80>]\n",
            " tree=PyTreeDef(*)\n",
            " unflattened=<object object at 0x7ef9aabeae80>\n",
            "Original=[1. 1. 1.]\n",
            " flat=[Array([1., 1., 1.], dtype=float32)]\n",
            " tree=PyTreeDef(*)\n",
            " unflattened=[1. 1. 1.]\n"
          ]
        }
      ]
    },
    {
      "cell_type": "code",
      "source": [],
      "metadata": {
        "id": "xyiokBRXTNBM"
      },
      "execution_count": null,
      "outputs": []
    }
  ]
}