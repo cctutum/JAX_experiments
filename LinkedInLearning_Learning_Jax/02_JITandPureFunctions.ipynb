{
  "nbformat": 4,
  "nbformat_minor": 0,
  "metadata": {
    "colab": {
      "provenance": [],
      "gpuType": "T4"
    },
    "kernelspec": {
      "name": "python3",
      "display_name": "Python 3"
    },
    "language_info": {
      "name": "python"
    },
    "accelerator": "GPU"
  },
  "cells": [
    {
      "cell_type": "code",
      "execution_count": 1,
      "metadata": {
        "id": "p8FSxclEMoss"
      },
      "outputs": [],
      "source": [
        "import jax\n",
        "import numpy as np\n",
        "import jax.numpy as jnp\n",
        "\n",
        "from jax import jit\n",
        "from jax import lax\n",
        "# Don't fotget to set up the runtime type as \"GPU\""
      ]
    },
    {
      "cell_type": "code",
      "source": [
        "def some_computation(x):\n",
        "  return x + 2*x*x + 3*x*x*x"
      ],
      "metadata": {
        "id": "2dJhDxH9NG6q"
      },
      "execution_count": 2,
      "outputs": []
    },
    {
      "cell_type": "code",
      "source": [
        "x_np = np.random.normal(size= (10_000, 10_000)).astype(np.float32)\n",
        "%timeit -n5 some_computation(x_np)"
      ],
      "metadata": {
        "colab": {
          "base_uri": "https://localhost:8080/"
        },
        "id": "xuUpVMCdNjBk",
        "outputId": "417c93b7-c84b-4dd2-f2e4-80f757bf6599"
      },
      "execution_count": 3,
      "outputs": [
        {
          "output_type": "stream",
          "name": "stdout",
          "text": [
            "621 ms ± 41.6 ms per loop (mean ± std. dev. of 7 runs, 5 loops each)\n"
          ]
        }
      ]
    },
    {
      "cell_type": "code",
      "source": [
        "x_jax = jax.random.normal(jax.random.PRNGKey(0), (10_000, 10_000), dtype=jnp.float32)\n",
        "%timeit -n5 some_computation(x_jax).block_until_ready()"
      ],
      "metadata": {
        "colab": {
          "base_uri": "https://localhost:8080/"
        },
        "id": "8W5GgwtGOhan",
        "outputId": "b2bbf54c-6779-4863-a87b-7d7165e57e8b"
      },
      "execution_count": 4,
      "outputs": [
        {
          "output_type": "stream",
          "name": "stdout",
          "text": [
            "43.3 ms ± 23 ms per loop (mean ± std. dev. of 7 runs, 5 loops each)\n"
          ]
        }
      ]
    },
    {
      "cell_type": "code",
      "source": [
        "some_computation_jax = jit(some_computation)\n",
        "%timeit -n5 some_computation_jax(x_jax).block_until_ready()"
      ],
      "metadata": {
        "colab": {
          "base_uri": "https://localhost:8080/"
        },
        "id": "EcY2g7UvQPas",
        "outputId": "313c2db4-a3bb-4b83-c43c-4a5e691ee41b"
      },
      "execution_count": 5,
      "outputs": [
        {
          "output_type": "stream",
          "name": "stdout",
          "text": [
            "The slowest run took 6.32 times longer than the fastest. This could mean that an intermediate result is being cached.\n",
            "6.84 ms ± 7.23 ms per loop (mean ± std. dev. of 7 runs, 5 loops each)\n"
          ]
        }
      ]
    },
    {
      "cell_type": "code",
      "source": [
        "%time some_computation_jax(x_jax).block_until_ready()"
      ],
      "metadata": {
        "colab": {
          "base_uri": "https://localhost:8080/"
        },
        "id": "F_PdQ4gNRUJG",
        "outputId": "5397c733-d761-4465-fb4c-7be053e25d1e"
      },
      "execution_count": 6,
      "outputs": [
        {
          "output_type": "stream",
          "name": "stdout",
          "text": [
            "CPU times: user 1.11 ms, sys: 35 µs, total: 1.15 ms\n",
            "Wall time: 3.93 ms\n"
          ]
        },
        {
          "output_type": "execute_result",
          "data": {
            "text/plain": [
              "Array([[ -5.123139  ,  -2.5528057 ,   0.54589796, ...,  -0.91849977,\n",
              "        -11.3729725 ,  -0.13426392],\n",
              "       [ -0.38166204,  19.278793  ,   8.179087  , ...,  -0.11817677,\n",
              "         11.692125  ,  -8.095479  ],\n",
              "       [ 41.685886  ,  -0.82572985,   1.1550295 , ...,  -3.5590916 ,\n",
              "         -0.72880155,  -0.252419  ],\n",
              "       ...,\n",
              "       [ 20.680542  ,  35.664925  ,   2.5015452 , ...,   8.285651  ,\n",
              "          1.961968  ,  -0.2965622 ],\n",
              "       [ -4.633772  ,   8.397433  ,   0.20800267, ...,   0.06732942,\n",
              "          0.11885115,   0.0623237 ],\n",
              "       [ -0.4510728 ,   2.6750205 ,  -0.13392928, ...,  -0.16722514,\n",
              "          0.9809772 ,   6.075848  ]], dtype=float32)"
            ]
          },
          "metadata": {},
          "execution_count": 6
        }
      ]
    },
    {
      "cell_type": "code",
      "source": [
        "@jit\n",
        "def some_computation_jit_decorated(x):\n",
        "  return x + 2*x*x + 3*x*x*x"
      ],
      "metadata": {
        "id": "KgvW9Ob3Rq__"
      },
      "execution_count": 7,
      "outputs": []
    },
    {
      "cell_type": "code",
      "source": [
        "%timeit -n5 some_computation_jit_decorated(x_jax).block_until_ready()"
      ],
      "metadata": {
        "colab": {
          "base_uri": "https://localhost:8080/"
        },
        "id": "gEH1BTpgSHzy",
        "outputId": "60806f42-fa96-4309-d8ff-b55973e4635d"
      },
      "execution_count": 8,
      "outputs": [
        {
          "output_type": "stream",
          "name": "stdout",
          "text": [
            "5.05 ms ± 2.73 ms per loop (mean ± std. dev. of 7 runs, 5 loops each)\n"
          ]
        }
      ]
    },
    {
      "cell_type": "code",
      "source": [
        "@jit\n",
        "def some_function(x, y):\n",
        "  print(f'x = {x}')\n",
        "  print(f'y = {y}')\n",
        "  result = jnp.dot(x, y)\n",
        "  print(f'result = {result}')\n",
        "  return result"
      ],
      "metadata": {
        "id": "3tgMmsQzSKa6"
      },
      "execution_count": 9,
      "outputs": []
    },
    {
      "cell_type": "code",
      "source": [
        "# inputs shape both (10_000, 10_000)\n",
        "# First JIT-run\n",
        "some_function(x_jax, x_jax.T)"
      ],
      "metadata": {
        "colab": {
          "base_uri": "https://localhost:8080/"
        },
        "id": "efL5VBZrqOJP",
        "outputId": "e7e5ca45-a0b3-4d96-89ba-0f11d0036109"
      },
      "execution_count": 10,
      "outputs": [
        {
          "output_type": "stream",
          "name": "stdout",
          "text": [
            "x = Traced<ShapedArray(float32[10000,10000])>with<DynamicJaxprTrace(level=1/0)>\n",
            "y = Traced<ShapedArray(float32[10000,10000])>with<DynamicJaxprTrace(level=1/0)>\n",
            "result = Traced<ShapedArray(float32[10000,10000])>with<DynamicJaxprTrace(level=1/0)>\n"
          ]
        },
        {
          "output_type": "execute_result",
          "data": {
            "text/plain": [
              "Array([[ 1.00604980e+04, -9.98899002e+01, -1.03874687e+02, ...,\n",
              "        -1.23548485e+02,  4.76367607e+01, -1.07481445e+02],\n",
              "       [-9.98899002e+01,  9.81833301e+03,  1.29423080e+02, ...,\n",
              "         2.41555939e+01, -5.59050674e+01, -1.96277191e+02],\n",
              "       [-1.03874687e+02,  1.29423080e+02,  1.01703213e+04, ...,\n",
              "        -2.91882648e+01, -1.04302149e+01,  3.90430717e+01],\n",
              "       ...,\n",
              "       [-1.23548485e+02,  2.41555939e+01, -2.91882648e+01, ...,\n",
              "         1.00786758e+04, -5.32248650e+01,  4.03949499e+00],\n",
              "       [ 4.76367607e+01, -5.59050674e+01, -1.04302149e+01, ...,\n",
              "        -5.32248650e+01,  9.87220312e+03, -1.78523216e+01],\n",
              "       [-1.07481445e+02, -1.96277191e+02,  3.90430717e+01, ...,\n",
              "         4.03949499e+00, -1.78523216e+01,  1.01478525e+04]],      dtype=float32)"
            ]
          },
          "metadata": {},
          "execution_count": 10
        }
      ]
    },
    {
      "cell_type": "code",
      "source": [
        "# Second JIT-run\n",
        "# print statements are removed, because they are side-effects\n",
        "some_function(x_jax, x_jax.T)"
      ],
      "metadata": {
        "colab": {
          "base_uri": "https://localhost:8080/"
        },
        "outputId": "7f2a8e22-9b7a-46e0-a382-b612f3e78702",
        "id": "vpFSmxcQq5cg"
      },
      "execution_count": 11,
      "outputs": [
        {
          "output_type": "execute_result",
          "data": {
            "text/plain": [
              "Array([[ 1.00604980e+04, -9.98899002e+01, -1.03874687e+02, ...,\n",
              "        -1.23548485e+02,  4.76367607e+01, -1.07481445e+02],\n",
              "       [-9.98899002e+01,  9.81833301e+03,  1.29423080e+02, ...,\n",
              "         2.41555939e+01, -5.59050674e+01, -1.96277191e+02],\n",
              "       [-1.03874687e+02,  1.29423080e+02,  1.01703213e+04, ...,\n",
              "        -2.91882648e+01, -1.04302149e+01,  3.90430717e+01],\n",
              "       ...,\n",
              "       [-1.23548485e+02,  2.41555939e+01, -2.91882648e+01, ...,\n",
              "         1.00786758e+04, -5.32248650e+01,  4.03949499e+00],\n",
              "       [ 4.76367607e+01, -5.59050674e+01, -1.04302149e+01, ...,\n",
              "        -5.32248650e+01,  9.87220312e+03, -1.78523216e+01],\n",
              "       [-1.07481445e+02, -1.96277191e+02,  3.90430717e+01, ...,\n",
              "         4.03949499e+00, -1.78523216e+01,  1.01478525e+04]],      dtype=float32)"
            ]
          },
          "metadata": {},
          "execution_count": 11
        }
      ]
    },
    {
      "cell_type": "code",
      "source": [
        "# Run the same JIT compiled function with different shape inputs\n",
        "x_jax_100 = jax.random.normal(jax.random.PRNGKey(0), (100, 100), dtype=jnp.float32)\n",
        "some_function(x_jax_100, x_jax_100.T)"
      ],
      "metadata": {
        "colab": {
          "base_uri": "https://localhost:8080/"
        },
        "id": "cxxScntUsN7f",
        "outputId": "2d501eee-a15b-480d-dc3a-ed963c862927"
      },
      "execution_count": 12,
      "outputs": [
        {
          "output_type": "stream",
          "name": "stdout",
          "text": [
            "x = Traced<ShapedArray(float32[100,100])>with<DynamicJaxprTrace(level=1/0)>\n",
            "y = Traced<ShapedArray(float32[100,100])>with<DynamicJaxprTrace(level=1/0)>\n",
            "result = Traced<ShapedArray(float32[100,100])>with<DynamicJaxprTrace(level=1/0)>\n"
          ]
        },
        {
          "output_type": "execute_result",
          "data": {
            "text/plain": [
              "Array([[ 88.81407  ,   2.9003427,  -5.972798 , ...,  -4.707271 ,\n",
              "          1.6306962, -18.483522 ],\n",
              "       [  2.9003427,  90.007965 , -19.595284 , ...,   1.6136569,\n",
              "         11.12668  ,  -4.6877217],\n",
              "       [ -5.972798 , -19.595284 ,  81.10071  , ...,   1.0915028,\n",
              "        -25.524742 ,   8.158062 ],\n",
              "       ...,\n",
              "       [ -4.707271 ,   1.6136569,   1.0915028, ...,  98.916084 ,\n",
              "         -9.319294 ,   3.4946725],\n",
              "       [  1.6306962,  11.12668  , -25.524742 , ...,  -9.319294 ,\n",
              "         87.156    ,  -1.4231719],\n",
              "       [-18.483522 ,  -4.6877217,   8.158062 , ...,   3.4946725,\n",
              "         -1.4231719, 101.68203  ]], dtype=float32)"
            ]
          },
          "metadata": {},
          "execution_count": 12
        }
      ]
    },
    {
      "cell_type": "code",
      "source": [
        "# Another input with the same shape (but different name) is used as argument this time\n",
        "y_jax_100 = jax.random.normal(jax.random.PRNGKey(1), (100, 100), dtype=jnp.float32)\n",
        "some_function(x_jax_100, y_jax_100.T)"
      ],
      "metadata": {
        "colab": {
          "base_uri": "https://localhost:8080/"
        },
        "id": "ATdl_Y-ZtDXZ",
        "outputId": "9427d5a6-e461-45a5-b320-35a0d3a3999b"
      },
      "execution_count": 13,
      "outputs": [
        {
          "output_type": "execute_result",
          "data": {
            "text/plain": [
              "Array([[ -7.3482647 ,  -3.6499982 ,  10.739452  , ...,   4.888681  ,\n",
              "         17.538935  ,   5.201276  ],\n",
              "       [ -0.08233333,   2.2109277 ,  15.598539  , ..., -12.977024  ,\n",
              "        -10.567622  ,  -4.1360354 ],\n",
              "       [ -4.844488  ,   8.9012165 ,  10.684648  , ...,   0.39691117,\n",
              "          2.0356302 ,  -2.8063076 ],\n",
              "       ...,\n",
              "       [ -7.4417977 ,  13.557502  , -15.566593  , ...,  16.8637    ,\n",
              "         11.441824  ,  -9.865422  ],\n",
              "       [ 13.538433  ,  -8.893979  ,   2.9191327 , ...,   1.848477  ,\n",
              "          3.9006677 ,   8.601546  ],\n",
              "       [-12.764776  ,  23.827639  ,  -4.7825894 , ...,  -9.058582  ,\n",
              "         -4.3704195 ,   7.200335  ]], dtype=float32)"
            ]
          },
          "metadata": {},
          "execution_count": 13
        }
      ]
    },
    {
      "cell_type": "code",
      "source": [
        "# JIT-compiler traces not only shape of input vectors, but also data types\n",
        "# We are now using 'int32' arrays instead of 'float32' and the JIT-compiler will retrace the same function as for the first time\n",
        "x_jax_100_int = jnp.eye(100, dtype=jnp.int32)\n",
        "some_function(x_jax_100_int, x_jax_100_int.T)"
      ],
      "metadata": {
        "colab": {
          "base_uri": "https://localhost:8080/"
        },
        "id": "WFLFrBI9vE48",
        "outputId": "b9df2bdb-dcd9-4ded-c8cb-3437d1dabc81"
      },
      "execution_count": 14,
      "outputs": [
        {
          "output_type": "stream",
          "name": "stdout",
          "text": [
            "x = Traced<ShapedArray(int32[100,100])>with<DynamicJaxprTrace(level=1/0)>\n",
            "y = Traced<ShapedArray(int32[100,100])>with<DynamicJaxprTrace(level=1/0)>\n",
            "result = Traced<ShapedArray(int32[100,100])>with<DynamicJaxprTrace(level=1/0)>\n"
          ]
        },
        {
          "output_type": "execute_result",
          "data": {
            "text/plain": [
              "Array([[1, 0, 0, ..., 0, 0, 0],\n",
              "       [0, 1, 0, ..., 0, 0, 0],\n",
              "       [0, 0, 1, ..., 0, 0, 0],\n",
              "       ...,\n",
              "       [0, 0, 0, ..., 1, 0, 0],\n",
              "       [0, 0, 0, ..., 0, 1, 0],\n",
              "       [0, 0, 0, ..., 0, 0, 1]], dtype=int32)"
            ]
          },
          "metadata": {},
          "execution_count": 14
        }
      ]
    },
    {
      "cell_type": "code",
      "source": [
        "# Impure functions and JIT: I/O streams\n",
        "def return_same_value(x):\n",
        "  print('Return input value at output')\n",
        "  return x\n",
        "\n",
        "jit(return_same_value)(2.)"
      ],
      "metadata": {
        "colab": {
          "base_uri": "https://localhost:8080/"
        },
        "id": "z7h8JhWf0O1r",
        "outputId": "0b0fd59d-6595-4eef-d749-70cf7274b2af"
      },
      "execution_count": 15,
      "outputs": [
        {
          "output_type": "stream",
          "name": "stdout",
          "text": [
            "Return input value at output\n"
          ]
        },
        {
          "output_type": "execute_result",
          "data": {
            "text/plain": [
              "Array(2., dtype=float32, weak_type=True)"
            ]
          },
          "metadata": {},
          "execution_count": 15
        }
      ]
    },
    {
      "cell_type": "code",
      "source": [
        "jit(return_same_value)(6.)"
      ],
      "metadata": {
        "colab": {
          "base_uri": "https://localhost:8080/"
        },
        "id": "9kxh_As31qEV",
        "outputId": "d6adce23-4e0f-4673-906c-1a5be7eaa0c4"
      },
      "execution_count": 16,
      "outputs": [
        {
          "output_type": "execute_result",
          "data": {
            "text/plain": [
              "Array(6., dtype=float32, weak_type=True)"
            ]
          },
          "metadata": {},
          "execution_count": 16
        }
      ]
    },
    {
      "cell_type": "code",
      "source": [
        "jit(return_same_value)(6)"
      ],
      "metadata": {
        "colab": {
          "base_uri": "https://localhost:8080/"
        },
        "id": "ZTHbTdnp17IU",
        "outputId": "f00f8c61-3c2b-43bd-aac5-f6bb7d421ea0"
      },
      "execution_count": 17,
      "outputs": [
        {
          "output_type": "stream",
          "name": "stdout",
          "text": [
            "Return input value at output\n"
          ]
        },
        {
          "output_type": "execute_result",
          "data": {
            "text/plain": [
              "Array(6, dtype=int32, weak_type=True)"
            ]
          },
          "metadata": {},
          "execution_count": 17
        }
      ]
    },
    {
      "cell_type": "code",
      "source": [
        "# Impure functions and JIT: Global state\n",
        "power = 5\n",
        "\n",
        "def power_of(x):\n",
        "  return x**power"
      ],
      "metadata": {
        "id": "bzspUCg62DFA"
      },
      "execution_count": 18,
      "outputs": []
    },
    {
      "cell_type": "code",
      "source": [
        "x_5 = jit(power_of)(2)\n",
        "x_5"
      ],
      "metadata": {
        "colab": {
          "base_uri": "https://localhost:8080/"
        },
        "id": "7FQy_QzH3fdg",
        "outputId": "545606ee-3ecc-4f45-dfe6-f0585dba35db"
      },
      "execution_count": 19,
      "outputs": [
        {
          "output_type": "execute_result",
          "data": {
            "text/plain": [
              "Array(32, dtype=int32, weak_type=True)"
            ]
          },
          "metadata": {},
          "execution_count": 19
        }
      ]
    },
    {
      "cell_type": "code",
      "source": [
        "power = 10\n",
        "x_10 = jit(power_of)(2)\n",
        "x_10"
      ],
      "metadata": {
        "colab": {
          "base_uri": "https://localhost:8080/"
        },
        "id": "O1nERk5d3pqQ",
        "outputId": "2e3f78cd-dede-422e-8f98-61a3e7ab6658"
      },
      "execution_count": 20,
      "outputs": [
        {
          "output_type": "execute_result",
          "data": {
            "text/plain": [
              "Array(32, dtype=int32, weak_type=True)"
            ]
          },
          "metadata": {},
          "execution_count": 20
        }
      ]
    },
    {
      "cell_type": "markdown",
      "source": [
        "Result is wrong! Because the 'power' is a global variable and when the function was JIT-compiled for the first time, power was set to 5. When you JIT-compile the same function with a different power value, it uses the old power value!"
      ],
      "metadata": {
        "id": "rXLqmXIj35DC"
      }
    },
    {
      "cell_type": "code",
      "source": [
        "# IMPORTANT! Here we change the input from int (2) to float (2.0), so forces JIT to recompile the same function\n",
        "# power (global variable) was set to 10 recently. Since the function will be recompiled (re-JIT-ed), the correct value of 'power' will be used!\n",
        "x_10 = jit(power_of)(2.0)\n",
        "x_10"
      ],
      "metadata": {
        "colab": {
          "base_uri": "https://localhost:8080/"
        },
        "id": "B0Y6cZ5k3xb1",
        "outputId": "e2b03eee-1543-4cc1-c7f6-f272d4c3edbb"
      },
      "execution_count": 21,
      "outputs": [
        {
          "output_type": "execute_result",
          "data": {
            "text/plain": [
              "Array(1024., dtype=float32, weak_type=True)"
            ]
          },
          "metadata": {},
          "execution_count": 21
        }
      ]
    },
    {
      "cell_type": "code",
      "source": [
        "x_10 = jit(power_of)(jnp.array([2]))\n",
        "x_10"
      ],
      "metadata": {
        "colab": {
          "base_uri": "https://localhost:8080/"
        },
        "id": "t3b5hg6rY33a",
        "outputId": "d8981908-5bdd-405a-bae7-b01f27aaf4ef"
      },
      "execution_count": 22,
      "outputs": [
        {
          "output_type": "execute_result",
          "data": {
            "text/plain": [
              "Array([1024], dtype=int32)"
            ]
          },
          "metadata": {},
          "execution_count": 22
        }
      ]
    },
    {
      "cell_type": "code",
      "source": [
        "# Impure functions and JIT: Iterators\n",
        "# In Python, iterators are stateful objects\n",
        "array_jax = jnp.arange(5)\n",
        "array_jax"
      ],
      "metadata": {
        "colab": {
          "base_uri": "https://localhost:8080/"
        },
        "id": "53_MMmgAZRLS",
        "outputId": "0229a090-68a7-40e4-957b-e1a381e21ebe"
      },
      "execution_count": 23,
      "outputs": [
        {
          "output_type": "execute_result",
          "data": {
            "text/plain": [
              "Array([0, 1, 2, 3, 4], dtype=int32)"
            ]
          },
          "metadata": {},
          "execution_count": 23
        }
      ]
    },
    {
      "cell_type": "code",
      "source": [
        "lax.fori_loop(0, 5, lambda i, x: x + array_jax[i], 0)"
      ],
      "metadata": {
        "colab": {
          "base_uri": "https://localhost:8080/"
        },
        "id": "S1wfsAtQZww3",
        "outputId": "d956c684-812d-4ede-9492-2a7e86fd6d0e"
      },
      "execution_count": 24,
      "outputs": [
        {
          "output_type": "execute_result",
          "data": {
            "text/plain": [
              "Array(10, dtype=int32)"
            ]
          },
          "metadata": {},
          "execution_count": 24
        }
      ]
    },
    {
      "cell_type": "code",
      "source": [
        "iterator = iter(range(5)) # iterator is a stateful object!\n",
        "\n",
        "print(lax.fori_loop(0, 5, lambda i, x: x + next(iterator), 0)) # because of the iterator, lambda function is no longer a pure function"
      ],
      "metadata": {
        "colab": {
          "base_uri": "https://localhost:8080/"
        },
        "id": "lLvD-5LpaM_e",
        "outputId": "2e2a99d6-e195-48d6-fe60-50ac301648b4"
      },
      "execution_count": 26,
      "outputs": [
        {
          "output_type": "stream",
          "name": "stdout",
          "text": [
            "0\n"
          ]
        }
      ]
    },
    {
      "cell_type": "code",
      "source": [
        "def pure_function_with_internal_state(array):\n",
        "    print('fresh JIT-compilation!')\n",
        "    array_list = [] # internal state\n",
        "    for i in range(len(array)):\n",
        "        array_list.append(array[i])\n",
        "    return array_list"
      ],
      "metadata": {
        "id": "HYob8ki1gIpR"
      },
      "execution_count": 33,
      "outputs": []
    },
    {
      "cell_type": "code",
      "source": [
        "array = jnp.arange(5)\n",
        "jit(pure_function_with_internal_state)(array)"
      ],
      "metadata": {
        "colab": {
          "base_uri": "https://localhost:8080/"
        },
        "id": "sXUx1ncsinch",
        "outputId": "1259098c-4c75-4b0b-8d18-6c4074a23320"
      },
      "execution_count": 35,
      "outputs": [
        {
          "output_type": "execute_result",
          "data": {
            "text/plain": [
              "[Array(0, dtype=int32),\n",
              " Array(1, dtype=int32),\n",
              " Array(2, dtype=int32),\n",
              " Array(3, dtype=int32),\n",
              " Array(4, dtype=int32)]"
            ]
          },
          "metadata": {},
          "execution_count": 35
        }
      ]
    },
    {
      "cell_type": "code",
      "source": [
        "array = jnp.arange(10)\n",
        "jit(pure_function_with_internal_state)(array)"
      ],
      "metadata": {
        "colab": {
          "base_uri": "https://localhost:8080/"
        },
        "id": "pIvnWWDNhNX8",
        "outputId": "436d9423-5869-42d7-8ce7-4b5d90ede129"
      },
      "execution_count": 36,
      "outputs": [
        {
          "output_type": "stream",
          "name": "stdout",
          "text": [
            "fresh JIT-compilation!\n"
          ]
        },
        {
          "output_type": "execute_result",
          "data": {
            "text/plain": [
              "[Array(0, dtype=int32),\n",
              " Array(1, dtype=int32),\n",
              " Array(2, dtype=int32),\n",
              " Array(3, dtype=int32),\n",
              " Array(4, dtype=int32),\n",
              " Array(5, dtype=int32),\n",
              " Array(6, dtype=int32),\n",
              " Array(7, dtype=int32),\n",
              " Array(8, dtype=int32),\n",
              " Array(9, dtype=int32)]"
            ]
          },
          "metadata": {},
          "execution_count": 36
        }
      ]
    },
    {
      "cell_type": "markdown",
      "source": [
        "### Jaxprs (Jax expressions)"
      ],
      "metadata": {
        "id": "QqeVNoJ_iyrt"
      }
    },
    {
      "cell_type": "code",
      "source": [
        "import jax\n",
        "import jax.numpy as jnp\n",
        "\n",
        "from jax import jit, grad, random"
      ],
      "metadata": {
        "id": "2H8HS7hJi4Ru"
      },
      "execution_count": 37,
      "outputs": []
    },
    {
      "cell_type": "code",
      "source": [
        "def relu(x):\n",
        "    return jnp.maximum(0.0, x)"
      ],
      "metadata": {
        "id": "ZJZhy_syjY-V"
      },
      "execution_count": 38,
      "outputs": []
    },
    {
      "cell_type": "code",
      "source": [
        "print(jax.make_jaxpr(relu)(5.))"
      ],
      "metadata": {
        "colab": {
          "base_uri": "https://localhost:8080/"
        },
        "id": "_xxEDJRVjfGi",
        "outputId": "d719b6ea-da74-4259-cf06-ac229e37ea64"
      },
      "execution_count": 39,
      "outputs": [
        {
          "output_type": "stream",
          "name": "stdout",
          "text": [
            "{ lambda ; a:f32[]. let b:f32[] = max 0.0 a in (b,) }\n"
          ]
        }
      ]
    },
    {
      "cell_type": "code",
      "source": [
        "# This is an example to understand why Jax JIT-function doesn't work with global variables\n",
        "input_list = []\n",
        "\n",
        "def sigmoid(x):\n",
        "    global input_list\n",
        "    input_list.append(x)\n",
        "    res = 1.0 / (1.0 + jnp.exp(-x))\n",
        "    return res\n",
        "\n",
        "print(jax.make_jaxpr(sigmoid)(5.0))"
      ],
      "metadata": {
        "colab": {
          "base_uri": "https://localhost:8080/"
        },
        "id": "tMGNewwpjmTE",
        "outputId": "336ba771-02ca-4e6b-a952-014502c10525"
      },
      "execution_count": 40,
      "outputs": [
        {
          "output_type": "stream",
          "name": "stdout",
          "text": [
            "{ lambda ; a:f32[]. let\n",
            "    b:f32[] = neg a\n",
            "    c:f32[] = exp b\n",
            "    d:f32[] = add 1.0 c\n",
            "    e:f32[] = div 1.0 d\n",
            "  in (e,) }\n"
          ]
        }
      ]
    },
    {
      "cell_type": "markdown",
      "source": [
        "### Control flow statements and JIT"
      ],
      "metadata": {
        "id": "Mb5cVWhs-VGe"
      }
    },
    {
      "cell_type": "code",
      "source": [
        "def f(x):\n",
        "    if x > 0:\n",
        "        return 3 * x**3 + 2 * x**2 + 5 * x\n",
        "    else:\n",
        "        return 2 * x\n",
        "\n",
        "jitted_fn = jax.jit(f)\n",
        "jitted_fn(10)"
      ],
      "metadata": {
        "colab": {
          "base_uri": "https://localhost:8080/",
          "height": 426
        },
        "id": "T23suYX1pWbz",
        "outputId": "9361e5fc-a06b-492c-a939-16947a0ef293"
      },
      "execution_count": 41,
      "outputs": [
        {
          "output_type": "error",
          "ename": "TracerBoolConversionError",
          "evalue": "Attempted boolean conversion of traced array with shape bool[]..\nThe error occurred while tracing the function f at <ipython-input-41-acee613a3c6b>:1 for jit. This concrete value was not available in Python because it depends on the value of the argument x.\nSee https://jax.readthedocs.io/en/latest/errors.html#jax.errors.TracerBoolConversionError",
          "traceback": [
            "\u001b[0;31m---------------------------------------------------------------------------\u001b[0m",
            "\u001b[0;31mTracerBoolConversionError\u001b[0m                 Traceback (most recent call last)",
            "\u001b[0;32m<ipython-input-41-acee613a3c6b>\u001b[0m in \u001b[0;36m<cell line: 8>\u001b[0;34m()\u001b[0m\n\u001b[1;32m      6\u001b[0m \u001b[0;34m\u001b[0m\u001b[0m\n\u001b[1;32m      7\u001b[0m \u001b[0mjitted_fn\u001b[0m \u001b[0;34m=\u001b[0m \u001b[0mjax\u001b[0m\u001b[0;34m.\u001b[0m\u001b[0mjit\u001b[0m\u001b[0;34m(\u001b[0m\u001b[0mf\u001b[0m\u001b[0;34m)\u001b[0m\u001b[0;34m\u001b[0m\u001b[0;34m\u001b[0m\u001b[0m\n\u001b[0;32m----> 8\u001b[0;31m \u001b[0mjitted_fn\u001b[0m\u001b[0;34m(\u001b[0m\u001b[0;36m10\u001b[0m\u001b[0;34m)\u001b[0m\u001b[0;34m\u001b[0m\u001b[0;34m\u001b[0m\u001b[0m\n\u001b[0m",
            "    \u001b[0;31m[... skipping hidden 11 frame]\u001b[0m\n",
            "\u001b[0;32m<ipython-input-41-acee613a3c6b>\u001b[0m in \u001b[0;36mf\u001b[0;34m(x)\u001b[0m\n\u001b[1;32m      1\u001b[0m \u001b[0;32mdef\u001b[0m \u001b[0mf\u001b[0m\u001b[0;34m(\u001b[0m\u001b[0mx\u001b[0m\u001b[0;34m)\u001b[0m\u001b[0;34m:\u001b[0m\u001b[0;34m\u001b[0m\u001b[0;34m\u001b[0m\u001b[0m\n\u001b[0;32m----> 2\u001b[0;31m     \u001b[0;32mif\u001b[0m \u001b[0mx\u001b[0m \u001b[0;34m>\u001b[0m \u001b[0;36m0\u001b[0m\u001b[0;34m:\u001b[0m\u001b[0;34m\u001b[0m\u001b[0;34m\u001b[0m\u001b[0m\n\u001b[0m\u001b[1;32m      3\u001b[0m         \u001b[0;32mreturn\u001b[0m \u001b[0;36m3\u001b[0m \u001b[0;34m*\u001b[0m \u001b[0mx\u001b[0m\u001b[0;34m**\u001b[0m\u001b[0;36m3\u001b[0m \u001b[0;34m+\u001b[0m \u001b[0;36m2\u001b[0m \u001b[0;34m*\u001b[0m \u001b[0mx\u001b[0m\u001b[0;34m**\u001b[0m\u001b[0;36m2\u001b[0m \u001b[0;34m+\u001b[0m \u001b[0;36m5\u001b[0m \u001b[0;34m*\u001b[0m \u001b[0mx\u001b[0m\u001b[0;34m\u001b[0m\u001b[0;34m\u001b[0m\u001b[0m\n\u001b[1;32m      4\u001b[0m     \u001b[0;32melse\u001b[0m\u001b[0;34m:\u001b[0m\u001b[0;34m\u001b[0m\u001b[0;34m\u001b[0m\u001b[0m\n\u001b[1;32m      5\u001b[0m         \u001b[0;32mreturn\u001b[0m \u001b[0;36m2\u001b[0m \u001b[0;34m*\u001b[0m \u001b[0mx\u001b[0m\u001b[0;34m\u001b[0m\u001b[0;34m\u001b[0m\u001b[0m\n",
            "    \u001b[0;31m[... skipping hidden 1 frame]\u001b[0m\n",
            "\u001b[0;32m/usr/local/lib/python3.10/dist-packages/jax/_src/core.py\u001b[0m in \u001b[0;36merror\u001b[0;34m(self, arg)\u001b[0m\n\u001b[1;32m   1490\u001b[0m   \u001b[0;32mif\u001b[0m \u001b[0mfun\u001b[0m \u001b[0;32mis\u001b[0m \u001b[0mbool\u001b[0m\u001b[0;34m:\u001b[0m\u001b[0;34m\u001b[0m\u001b[0;34m\u001b[0m\u001b[0m\n\u001b[1;32m   1491\u001b[0m     \u001b[0;32mdef\u001b[0m \u001b[0merror\u001b[0m\u001b[0;34m(\u001b[0m\u001b[0mself\u001b[0m\u001b[0;34m,\u001b[0m \u001b[0marg\u001b[0m\u001b[0;34m)\u001b[0m\u001b[0;34m:\u001b[0m\u001b[0;34m\u001b[0m\u001b[0;34m\u001b[0m\u001b[0m\n\u001b[0;32m-> 1492\u001b[0;31m       \u001b[0;32mraise\u001b[0m \u001b[0mTracerBoolConversionError\u001b[0m\u001b[0;34m(\u001b[0m\u001b[0marg\u001b[0m\u001b[0;34m)\u001b[0m\u001b[0;34m\u001b[0m\u001b[0;34m\u001b[0m\u001b[0m\n\u001b[0m\u001b[1;32m   1493\u001b[0m   \u001b[0;32melif\u001b[0m \u001b[0mfun\u001b[0m \u001b[0;32min\u001b[0m \u001b[0;34m(\u001b[0m\u001b[0mhex\u001b[0m\u001b[0;34m,\u001b[0m \u001b[0moct\u001b[0m\u001b[0;34m,\u001b[0m \u001b[0moperator\u001b[0m\u001b[0;34m.\u001b[0m\u001b[0mindex\u001b[0m\u001b[0;34m)\u001b[0m\u001b[0;34m:\u001b[0m\u001b[0;34m\u001b[0m\u001b[0;34m\u001b[0m\u001b[0m\n\u001b[1;32m   1494\u001b[0m     \u001b[0;32mdef\u001b[0m \u001b[0merror\u001b[0m\u001b[0;34m(\u001b[0m\u001b[0mself\u001b[0m\u001b[0;34m,\u001b[0m \u001b[0marg\u001b[0m\u001b[0;34m)\u001b[0m\u001b[0;34m:\u001b[0m\u001b[0;34m\u001b[0m\u001b[0;34m\u001b[0m\u001b[0m\n",
            "\u001b[0;31mTracerBoolConversionError\u001b[0m: Attempted boolean conversion of traced array with shape bool[]..\nThe error occurred while tracing the function f at <ipython-input-41-acee613a3c6b>:1 for jit. This concrete value was not available in Python because it depends on the value of the argument x.\nSee https://jax.readthedocs.io/en/latest/errors.html#jax.errors.TracerBoolConversionError"
          ]
        }
      ]
    },
    {
      "cell_type": "code",
      "source": [
        "@jit\n",
        "def exp_func(x):\n",
        "    return 3 * x**3 + 2 * x**2 + 5 * x"
      ],
      "metadata": {
        "id": "YYye1_LM-vZe"
      },
      "execution_count": 42,
      "outputs": []
    },
    {
      "cell_type": "code",
      "source": [
        "def f_inner_jitted(x):\n",
        "    if x > 0:\n",
        "        return jit(exp_func)(x)\n",
        "    else:\n",
        "        return 2 * x\n",
        "\n",
        "f_inner_jitted(10)"
      ],
      "metadata": {
        "colab": {
          "base_uri": "https://localhost:8080/"
        },
        "id": "T1CDIyEI_xuC",
        "outputId": "028226d0-06e0-4ef6-d2aa-325edaac303c"
      },
      "execution_count": 43,
      "outputs": [
        {
          "output_type": "execute_result",
          "data": {
            "text/plain": [
              "Array(3250, dtype=int32, weak_type=True)"
            ]
          },
          "metadata": {},
          "execution_count": 43
        }
      ]
    },
    {
      "cell_type": "code",
      "source": [],
      "metadata": {
        "id": "rrwxO8dq_6Kz"
      },
      "execution_count": null,
      "outputs": []
    }
  ]
}